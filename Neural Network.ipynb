{
 "cells": [
  {
   "cell_type": "markdown",
   "metadata": {},
   "source": [
    "#OUTLINE FOR THIS PROJECT - CHURN PREDICTION\n",
    "1. IMPORTING DATASET\n",
    "2. DATA CLEANING\n",
    "3. EXPLORATORY DATA ANALYSIS\n",
    "4. DATA PREPROCESSING FOR MODEL\n",
    "5. BASIC MODEL BUILDING\n",
    "6. BASIC MODEL EVALUATION (MAYBE?)\n",
    "\n"
   ]
  },
  {
   "cell_type": "markdown",
   "metadata": {},
   "source": [
    "1.Importing Dataset & Libraries\n",
    "* Importing the nexessary libraries for data processing"
   ]
  },
  {
   "cell_type": "code",
   "execution_count": 90,
   "metadata": {},
   "outputs": [],
   "source": [
    "#Import Libraries\n",
    "import pandas as pd\n",
    "import numpy as np\n",
    "import matplotlib.pyplot as plt\n",
    "import seaborn as sns\n",
    "from sklearn.preprocessing import LabelEncoder\n",
    "from sklearn.model_selection import train_test_split\n",
    "from sklearn.preprocessing import StandardScaler\n",
    "from sklearn.model_selection import train_test_split\n",
    "from sklearn.linear_model import LogisticRegression\n",
    "from sklearn.metrics import confusion_matrix\n",
    "from sklearn.naive_bayes import GaussianNB\n",
    "from sklearn import metrics\n",
    "from sklearn.svm import SVC\n",
    "from sklearn.tree import DecisionTreeClassifier\n",
    "from sklearn.neighbors import KNeighborsClassifier\n",
    "from sklearn.metrics import accuracy_score\n",
    "from sklearn.metrics import plot_confusion_matrix\n",
    "from sklearn.metrics import classification_report\n",
    "from sklearn.neural_network import MLPClassifier\n",
    "from sklearn.ensemble import RandomForestClassifier\n",
    "import keras\n",
    "keras.__version__\n",
    "from keras.models import Sequential\n",
    "from keras.layers import Dense\n",
    "from keras.layers import Dropout\n",
    "\n",
    "\n",
    "#set for the dataset display for max row and column shown for 500\n",
    "pd.set_option('display.max_rows', 500)\n",
    "pd.set_option('display.max_columns', 500)\n",
    "pd.set_option('display.width', 1000)"
   ]
  },
  {
   "cell_type": "markdown",
   "metadata": {},
   "source": [
    "* Importing the data set\n",
    "This dataset belongs to the bank that is hidden its name because of data security. The dataset consists of 13 attributes and 10,000 rows. The following shows description of attributes.\n",
    "\n",
    "Customer ID: This attribute is unique and assume that primary key\n",
    "\n",
    "Surname: it belongs to surname of customer and string values\n",
    "\n",
    "Geography: it shows country of customer\n",
    "\n",
    "Gender: male/female\n",
    "\n",
    "Credit Score: it gives credit score of customers. That score calculates interbank system. High score shows that the customer debt high repayment capacity.\n",
    "\n",
    "Age: age of customers\n",
    "\n",
    "Tenure: The number of ages the customer is in the bank.\n",
    "\n",
    "Balance: Customer's money in the bank.\n",
    "\n",
    "Number of Products: Number of products owned by the customer.\n",
    "\n",
    "Credit Card: Whether the customer has a credit card\n",
    "\n",
    "Active Status: Customer's presence in the bank\n",
    "\n",
    "Estimated Salary: Customer's estimated salary\n",
    "\n",
    "Exited: Churn or not"
   ]
  },
  {
   "cell_type": "code",
   "execution_count": 2,
   "metadata": {},
   "outputs": [
    {
     "data": {
      "text/html": [
       "<div>\n",
       "<style scoped>\n",
       "    .dataframe tbody tr th:only-of-type {\n",
       "        vertical-align: middle;\n",
       "    }\n",
       "\n",
       "    .dataframe tbody tr th {\n",
       "        vertical-align: top;\n",
       "    }\n",
       "\n",
       "    .dataframe thead th {\n",
       "        text-align: right;\n",
       "    }\n",
       "</style>\n",
       "<table border=\"1\" class=\"dataframe\">\n",
       "  <thead>\n",
       "    <tr style=\"text-align: right;\">\n",
       "      <th></th>\n",
       "      <th>RowNumber</th>\n",
       "      <th>CustomerId</th>\n",
       "      <th>Surname</th>\n",
       "      <th>CreditScore</th>\n",
       "      <th>Geography</th>\n",
       "      <th>Gender</th>\n",
       "      <th>Age</th>\n",
       "      <th>Tenure</th>\n",
       "      <th>Balance</th>\n",
       "      <th>NumOfProducts</th>\n",
       "      <th>HasCrCard</th>\n",
       "      <th>IsActiveMember</th>\n",
       "      <th>EstimatedSalary</th>\n",
       "      <th>Exited</th>\n",
       "    </tr>\n",
       "  </thead>\n",
       "  <tbody>\n",
       "    <tr>\n",
       "      <th>0</th>\n",
       "      <td>1</td>\n",
       "      <td>15634602</td>\n",
       "      <td>Hargrave</td>\n",
       "      <td>619</td>\n",
       "      <td>France</td>\n",
       "      <td>Female</td>\n",
       "      <td>42</td>\n",
       "      <td>2</td>\n",
       "      <td>0.00</td>\n",
       "      <td>1</td>\n",
       "      <td>1</td>\n",
       "      <td>1</td>\n",
       "      <td>101348.88</td>\n",
       "      <td>1</td>\n",
       "    </tr>\n",
       "    <tr>\n",
       "      <th>1</th>\n",
       "      <td>2</td>\n",
       "      <td>15647311</td>\n",
       "      <td>Hill</td>\n",
       "      <td>608</td>\n",
       "      <td>Spain</td>\n",
       "      <td>Female</td>\n",
       "      <td>41</td>\n",
       "      <td>1</td>\n",
       "      <td>83807.86</td>\n",
       "      <td>1</td>\n",
       "      <td>0</td>\n",
       "      <td>1</td>\n",
       "      <td>112542.58</td>\n",
       "      <td>0</td>\n",
       "    </tr>\n",
       "    <tr>\n",
       "      <th>2</th>\n",
       "      <td>3</td>\n",
       "      <td>15619304</td>\n",
       "      <td>Onio</td>\n",
       "      <td>502</td>\n",
       "      <td>France</td>\n",
       "      <td>Female</td>\n",
       "      <td>42</td>\n",
       "      <td>8</td>\n",
       "      <td>159660.80</td>\n",
       "      <td>3</td>\n",
       "      <td>1</td>\n",
       "      <td>0</td>\n",
       "      <td>113931.57</td>\n",
       "      <td>1</td>\n",
       "    </tr>\n",
       "    <tr>\n",
       "      <th>3</th>\n",
       "      <td>4</td>\n",
       "      <td>15701354</td>\n",
       "      <td>Boni</td>\n",
       "      <td>699</td>\n",
       "      <td>France</td>\n",
       "      <td>Female</td>\n",
       "      <td>39</td>\n",
       "      <td>1</td>\n",
       "      <td>0.00</td>\n",
       "      <td>2</td>\n",
       "      <td>0</td>\n",
       "      <td>0</td>\n",
       "      <td>93826.63</td>\n",
       "      <td>0</td>\n",
       "    </tr>\n",
       "    <tr>\n",
       "      <th>4</th>\n",
       "      <td>5</td>\n",
       "      <td>15737888</td>\n",
       "      <td>Mitchell</td>\n",
       "      <td>850</td>\n",
       "      <td>Spain</td>\n",
       "      <td>Female</td>\n",
       "      <td>43</td>\n",
       "      <td>2</td>\n",
       "      <td>125510.82</td>\n",
       "      <td>1</td>\n",
       "      <td>1</td>\n",
       "      <td>1</td>\n",
       "      <td>79084.10</td>\n",
       "      <td>0</td>\n",
       "    </tr>\n",
       "    <tr>\n",
       "      <th>...</th>\n",
       "      <td>...</td>\n",
       "      <td>...</td>\n",
       "      <td>...</td>\n",
       "      <td>...</td>\n",
       "      <td>...</td>\n",
       "      <td>...</td>\n",
       "      <td>...</td>\n",
       "      <td>...</td>\n",
       "      <td>...</td>\n",
       "      <td>...</td>\n",
       "      <td>...</td>\n",
       "      <td>...</td>\n",
       "      <td>...</td>\n",
       "      <td>...</td>\n",
       "    </tr>\n",
       "    <tr>\n",
       "      <th>9995</th>\n",
       "      <td>9996</td>\n",
       "      <td>15606229</td>\n",
       "      <td>Obijiaku</td>\n",
       "      <td>771</td>\n",
       "      <td>France</td>\n",
       "      <td>Male</td>\n",
       "      <td>39</td>\n",
       "      <td>5</td>\n",
       "      <td>0.00</td>\n",
       "      <td>2</td>\n",
       "      <td>1</td>\n",
       "      <td>0</td>\n",
       "      <td>96270.64</td>\n",
       "      <td>0</td>\n",
       "    </tr>\n",
       "    <tr>\n",
       "      <th>9996</th>\n",
       "      <td>9997</td>\n",
       "      <td>15569892</td>\n",
       "      <td>Johnstone</td>\n",
       "      <td>516</td>\n",
       "      <td>France</td>\n",
       "      <td>Male</td>\n",
       "      <td>35</td>\n",
       "      <td>10</td>\n",
       "      <td>57369.61</td>\n",
       "      <td>1</td>\n",
       "      <td>1</td>\n",
       "      <td>1</td>\n",
       "      <td>101699.77</td>\n",
       "      <td>0</td>\n",
       "    </tr>\n",
       "    <tr>\n",
       "      <th>9997</th>\n",
       "      <td>9998</td>\n",
       "      <td>15584532</td>\n",
       "      <td>Liu</td>\n",
       "      <td>709</td>\n",
       "      <td>France</td>\n",
       "      <td>Female</td>\n",
       "      <td>36</td>\n",
       "      <td>7</td>\n",
       "      <td>0.00</td>\n",
       "      <td>1</td>\n",
       "      <td>0</td>\n",
       "      <td>1</td>\n",
       "      <td>42085.58</td>\n",
       "      <td>1</td>\n",
       "    </tr>\n",
       "    <tr>\n",
       "      <th>9998</th>\n",
       "      <td>9999</td>\n",
       "      <td>15682355</td>\n",
       "      <td>Sabbatini</td>\n",
       "      <td>772</td>\n",
       "      <td>Germany</td>\n",
       "      <td>Male</td>\n",
       "      <td>42</td>\n",
       "      <td>3</td>\n",
       "      <td>75075.31</td>\n",
       "      <td>2</td>\n",
       "      <td>1</td>\n",
       "      <td>0</td>\n",
       "      <td>92888.52</td>\n",
       "      <td>1</td>\n",
       "    </tr>\n",
       "    <tr>\n",
       "      <th>9999</th>\n",
       "      <td>10000</td>\n",
       "      <td>15628319</td>\n",
       "      <td>Walker</td>\n",
       "      <td>792</td>\n",
       "      <td>France</td>\n",
       "      <td>Female</td>\n",
       "      <td>28</td>\n",
       "      <td>4</td>\n",
       "      <td>130142.79</td>\n",
       "      <td>1</td>\n",
       "      <td>1</td>\n",
       "      <td>0</td>\n",
       "      <td>38190.78</td>\n",
       "      <td>0</td>\n",
       "    </tr>\n",
       "  </tbody>\n",
       "</table>\n",
       "<p>10000 rows × 14 columns</p>\n",
       "</div>"
      ],
      "text/plain": [
       "      RowNumber  CustomerId    Surname  CreditScore Geography  Gender  Age  Tenure    Balance  NumOfProducts  HasCrCard  IsActiveMember  EstimatedSalary  Exited\n",
       "0             1    15634602   Hargrave          619    France  Female   42       2       0.00              1          1               1        101348.88       1\n",
       "1             2    15647311       Hill          608     Spain  Female   41       1   83807.86              1          0               1        112542.58       0\n",
       "2             3    15619304       Onio          502    France  Female   42       8  159660.80              3          1               0        113931.57       1\n",
       "3             4    15701354       Boni          699    France  Female   39       1       0.00              2          0               0         93826.63       0\n",
       "4             5    15737888   Mitchell          850     Spain  Female   43       2  125510.82              1          1               1         79084.10       0\n",
       "...         ...         ...        ...          ...       ...     ...  ...     ...        ...            ...        ...             ...              ...     ...\n",
       "9995       9996    15606229   Obijiaku          771    France    Male   39       5       0.00              2          1               0         96270.64       0\n",
       "9996       9997    15569892  Johnstone          516    France    Male   35      10   57369.61              1          1               1        101699.77       0\n",
       "9997       9998    15584532        Liu          709    France  Female   36       7       0.00              1          0               1         42085.58       1\n",
       "9998       9999    15682355  Sabbatini          772   Germany    Male   42       3   75075.31              2          1               0         92888.52       1\n",
       "9999      10000    15628319     Walker          792    France  Female   28       4  130142.79              1          1               0         38190.78       0\n",
       "\n",
       "[10000 rows x 14 columns]"
      ]
     },
     "execution_count": 2,
     "metadata": {},
     "output_type": "execute_result"
    }
   ],
   "source": [
    "#load dataset\n",
    "data = pd.read_csv('Churn Modeling.csv')\n",
    "data"
   ]
  },
  {
   "cell_type": "markdown",
   "metadata": {},
   "source": [
    "From above we see that our data set are 10 K row with 14 columns"
   ]
  },
  {
   "cell_type": "markdown",
   "metadata": {},
   "source": [
    "2. Data Cleaning"
   ]
  },
  {
   "cell_type": "code",
   "execution_count": 3,
   "metadata": {},
   "outputs": [
    {
     "name": "stdout",
     "output_type": "stream",
     "text": [
      "<class 'pandas.core.frame.DataFrame'>\n",
      "RangeIndex: 10000 entries, 0 to 9999\n",
      "Data columns (total 14 columns):\n",
      " #   Column           Non-Null Count  Dtype  \n",
      "---  ------           --------------  -----  \n",
      " 0   RowNumber        10000 non-null  int64  \n",
      " 1   CustomerId       10000 non-null  int64  \n",
      " 2   Surname          10000 non-null  object \n",
      " 3   CreditScore      10000 non-null  int64  \n",
      " 4   Geography        10000 non-null  object \n",
      " 5   Gender           10000 non-null  object \n",
      " 6   Age              10000 non-null  int64  \n",
      " 7   Tenure           10000 non-null  int64  \n",
      " 8   Balance          10000 non-null  float64\n",
      " 9   NumOfProducts    10000 non-null  int64  \n",
      " 10  HasCrCard        10000 non-null  int64  \n",
      " 11  IsActiveMember   10000 non-null  int64  \n",
      " 12  EstimatedSalary  10000 non-null  float64\n",
      " 13  Exited           10000 non-null  int64  \n",
      "dtypes: float64(2), int64(9), object(3)\n",
      "memory usage: 1.1+ MB\n"
     ]
    },
    {
     "data": {
      "text/plain": [
       "0"
      ]
     },
     "execution_count": 3,
     "metadata": {},
     "output_type": "execute_result"
    }
   ],
   "source": [
    "#Start to get more information\n",
    "data.info()\n",
    "\n",
    "# check the missing value on each coloumn  \n",
    "data.isna().sum()\n",
    "\n",
    "#check any duplicates data or not\n",
    "data.duplicated().sum()"
   ]
  },
  {
   "cell_type": "markdown",
   "metadata": {},
   "source": [
    "from above  we can see that has 3 object and the rest are continous variables, no missing data  and no duplicated data so we can good to go start"
   ]
  },
  {
   "cell_type": "code",
   "execution_count": 4,
   "metadata": {},
   "outputs": [
    {
     "data": {
      "text/plain": [
       "RowNumber            int64\n",
       "CustomerId           int64\n",
       "Surname             object\n",
       "CreditScore          int64\n",
       "Geography           object\n",
       "Gender              object\n",
       "Age                  int64\n",
       "Tenure               int64\n",
       "Balance            float64\n",
       "NumOfProducts        int64\n",
       "HasCrCard            int64\n",
       "IsActiveMember       int64\n",
       "EstimatedSalary    float64\n",
       "Exited               int64\n",
       "dtype: object"
      ]
     },
     "execution_count": 4,
     "metadata": {},
     "output_type": "execute_result"
    }
   ],
   "source": [
    "# Display the data types of our dataset columns\n",
    "data.dtypes"
   ]
  },
  {
   "cell_type": "markdown",
   "metadata": {},
   "source": [
    "3. Exploratory Data Analysis "
   ]
  },
  {
   "cell_type": "code",
   "execution_count": 5,
   "metadata": {},
   "outputs": [
    {
     "data": {
      "text/html": [
       "<div>\n",
       "<style scoped>\n",
       "    .dataframe tbody tr th:only-of-type {\n",
       "        vertical-align: middle;\n",
       "    }\n",
       "\n",
       "    .dataframe tbody tr th {\n",
       "        vertical-align: top;\n",
       "    }\n",
       "\n",
       "    .dataframe thead th {\n",
       "        text-align: right;\n",
       "    }\n",
       "</style>\n",
       "<table border=\"1\" class=\"dataframe\">\n",
       "  <thead>\n",
       "    <tr style=\"text-align: right;\">\n",
       "      <th></th>\n",
       "      <th>RowNumber</th>\n",
       "      <th>CustomerId</th>\n",
       "      <th>CreditScore</th>\n",
       "      <th>Age</th>\n",
       "      <th>Tenure</th>\n",
       "      <th>Balance</th>\n",
       "      <th>NumOfProducts</th>\n",
       "      <th>HasCrCard</th>\n",
       "      <th>IsActiveMember</th>\n",
       "      <th>EstimatedSalary</th>\n",
       "      <th>Exited</th>\n",
       "    </tr>\n",
       "  </thead>\n",
       "  <tbody>\n",
       "    <tr>\n",
       "      <th>count</th>\n",
       "      <td>10000.00000</td>\n",
       "      <td>1.000000e+04</td>\n",
       "      <td>10000.000000</td>\n",
       "      <td>10000.000000</td>\n",
       "      <td>10000.000000</td>\n",
       "      <td>10000.000000</td>\n",
       "      <td>10000.000000</td>\n",
       "      <td>10000.00000</td>\n",
       "      <td>10000.000000</td>\n",
       "      <td>10000.000000</td>\n",
       "      <td>10000.000000</td>\n",
       "    </tr>\n",
       "    <tr>\n",
       "      <th>mean</th>\n",
       "      <td>5000.50000</td>\n",
       "      <td>1.569094e+07</td>\n",
       "      <td>650.528800</td>\n",
       "      <td>38.921800</td>\n",
       "      <td>5.012800</td>\n",
       "      <td>76485.889288</td>\n",
       "      <td>1.530200</td>\n",
       "      <td>0.70550</td>\n",
       "      <td>0.515100</td>\n",
       "      <td>100090.239881</td>\n",
       "      <td>0.203700</td>\n",
       "    </tr>\n",
       "    <tr>\n",
       "      <th>std</th>\n",
       "      <td>2886.89568</td>\n",
       "      <td>7.193619e+04</td>\n",
       "      <td>96.653299</td>\n",
       "      <td>10.487806</td>\n",
       "      <td>2.892174</td>\n",
       "      <td>62397.405202</td>\n",
       "      <td>0.581654</td>\n",
       "      <td>0.45584</td>\n",
       "      <td>0.499797</td>\n",
       "      <td>57510.492818</td>\n",
       "      <td>0.402769</td>\n",
       "    </tr>\n",
       "    <tr>\n",
       "      <th>min</th>\n",
       "      <td>1.00000</td>\n",
       "      <td>1.556570e+07</td>\n",
       "      <td>350.000000</td>\n",
       "      <td>18.000000</td>\n",
       "      <td>0.000000</td>\n",
       "      <td>0.000000</td>\n",
       "      <td>1.000000</td>\n",
       "      <td>0.00000</td>\n",
       "      <td>0.000000</td>\n",
       "      <td>11.580000</td>\n",
       "      <td>0.000000</td>\n",
       "    </tr>\n",
       "    <tr>\n",
       "      <th>25%</th>\n",
       "      <td>2500.75000</td>\n",
       "      <td>1.562853e+07</td>\n",
       "      <td>584.000000</td>\n",
       "      <td>32.000000</td>\n",
       "      <td>3.000000</td>\n",
       "      <td>0.000000</td>\n",
       "      <td>1.000000</td>\n",
       "      <td>0.00000</td>\n",
       "      <td>0.000000</td>\n",
       "      <td>51002.110000</td>\n",
       "      <td>0.000000</td>\n",
       "    </tr>\n",
       "    <tr>\n",
       "      <th>50%</th>\n",
       "      <td>5000.50000</td>\n",
       "      <td>1.569074e+07</td>\n",
       "      <td>652.000000</td>\n",
       "      <td>37.000000</td>\n",
       "      <td>5.000000</td>\n",
       "      <td>97198.540000</td>\n",
       "      <td>1.000000</td>\n",
       "      <td>1.00000</td>\n",
       "      <td>1.000000</td>\n",
       "      <td>100193.915000</td>\n",
       "      <td>0.000000</td>\n",
       "    </tr>\n",
       "    <tr>\n",
       "      <th>75%</th>\n",
       "      <td>7500.25000</td>\n",
       "      <td>1.575323e+07</td>\n",
       "      <td>718.000000</td>\n",
       "      <td>44.000000</td>\n",
       "      <td>7.000000</td>\n",
       "      <td>127644.240000</td>\n",
       "      <td>2.000000</td>\n",
       "      <td>1.00000</td>\n",
       "      <td>1.000000</td>\n",
       "      <td>149388.247500</td>\n",
       "      <td>0.000000</td>\n",
       "    </tr>\n",
       "    <tr>\n",
       "      <th>max</th>\n",
       "      <td>10000.00000</td>\n",
       "      <td>1.581569e+07</td>\n",
       "      <td>850.000000</td>\n",
       "      <td>92.000000</td>\n",
       "      <td>10.000000</td>\n",
       "      <td>250898.090000</td>\n",
       "      <td>4.000000</td>\n",
       "      <td>1.00000</td>\n",
       "      <td>1.000000</td>\n",
       "      <td>199992.480000</td>\n",
       "      <td>1.000000</td>\n",
       "    </tr>\n",
       "  </tbody>\n",
       "</table>\n",
       "</div>"
      ],
      "text/plain": [
       "         RowNumber    CustomerId   CreditScore           Age        Tenure        Balance  NumOfProducts    HasCrCard  IsActiveMember  EstimatedSalary        Exited\n",
       "count  10000.00000  1.000000e+04  10000.000000  10000.000000  10000.000000   10000.000000   10000.000000  10000.00000    10000.000000     10000.000000  10000.000000\n",
       "mean    5000.50000  1.569094e+07    650.528800     38.921800      5.012800   76485.889288       1.530200      0.70550        0.515100    100090.239881      0.203700\n",
       "std     2886.89568  7.193619e+04     96.653299     10.487806      2.892174   62397.405202       0.581654      0.45584        0.499797     57510.492818      0.402769\n",
       "min        1.00000  1.556570e+07    350.000000     18.000000      0.000000       0.000000       1.000000      0.00000        0.000000        11.580000      0.000000\n",
       "25%     2500.75000  1.562853e+07    584.000000     32.000000      3.000000       0.000000       1.000000      0.00000        0.000000     51002.110000      0.000000\n",
       "50%     5000.50000  1.569074e+07    652.000000     37.000000      5.000000   97198.540000       1.000000      1.00000        1.000000    100193.915000      0.000000\n",
       "75%     7500.25000  1.575323e+07    718.000000     44.000000      7.000000  127644.240000       2.000000      1.00000        1.000000    149388.247500      0.000000\n",
       "max    10000.00000  1.581569e+07    850.000000     92.000000     10.000000  250898.090000       4.000000      1.00000        1.000000    199992.480000      1.000000"
      ]
     },
     "execution_count": 5,
     "metadata": {},
     "output_type": "execute_result"
    }
   ],
   "source": [
    "# to better understand the numeric data, we want to use the .describe() method. This gives us an understanding of the central tendencies of the data \n",
    "data.describe()"
   ]
  },
  {
   "cell_type": "markdown",
   "metadata": {},
   "source": [
    "Credit score is between 350 (min) and 850 (max). The average age of the customers is 39 (round up the 38.92). Tenure is maximum ten years which assume age of the bank. Minimum value and first quantiles of Balance are equal 0 which means the distribution may not be normal."
   ]
  },
  {
   "cell_type": "code",
   "execution_count": 6,
   "metadata": {},
   "outputs": [
    {
     "data": {
      "text/html": [
       "<div>\n",
       "<style scoped>\n",
       "    .dataframe tbody tr th:only-of-type {\n",
       "        vertical-align: middle;\n",
       "    }\n",
       "\n",
       "    .dataframe tbody tr th {\n",
       "        vertical-align: top;\n",
       "    }\n",
       "\n",
       "    .dataframe thead th {\n",
       "        text-align: right;\n",
       "    }\n",
       "</style>\n",
       "<table border=\"1\" class=\"dataframe\">\n",
       "  <thead>\n",
       "    <tr style=\"text-align: right;\">\n",
       "      <th></th>\n",
       "      <th>CreditScore</th>\n",
       "      <th>Geography</th>\n",
       "      <th>Gender</th>\n",
       "      <th>Age</th>\n",
       "      <th>Tenure</th>\n",
       "      <th>Balance</th>\n",
       "      <th>NumOfProducts</th>\n",
       "      <th>HasCrCard</th>\n",
       "      <th>IsActiveMember</th>\n",
       "      <th>EstimatedSalary</th>\n",
       "      <th>Exited</th>\n",
       "    </tr>\n",
       "  </thead>\n",
       "  <tbody>\n",
       "    <tr>\n",
       "      <th>0</th>\n",
       "      <td>619</td>\n",
       "      <td>France</td>\n",
       "      <td>Female</td>\n",
       "      <td>42</td>\n",
       "      <td>2</td>\n",
       "      <td>0.00</td>\n",
       "      <td>1</td>\n",
       "      <td>1</td>\n",
       "      <td>1</td>\n",
       "      <td>101348.88</td>\n",
       "      <td>1</td>\n",
       "    </tr>\n",
       "    <tr>\n",
       "      <th>1</th>\n",
       "      <td>608</td>\n",
       "      <td>Spain</td>\n",
       "      <td>Female</td>\n",
       "      <td>41</td>\n",
       "      <td>1</td>\n",
       "      <td>83807.86</td>\n",
       "      <td>1</td>\n",
       "      <td>0</td>\n",
       "      <td>1</td>\n",
       "      <td>112542.58</td>\n",
       "      <td>0</td>\n",
       "    </tr>\n",
       "    <tr>\n",
       "      <th>2</th>\n",
       "      <td>502</td>\n",
       "      <td>France</td>\n",
       "      <td>Female</td>\n",
       "      <td>42</td>\n",
       "      <td>8</td>\n",
       "      <td>159660.80</td>\n",
       "      <td>3</td>\n",
       "      <td>1</td>\n",
       "      <td>0</td>\n",
       "      <td>113931.57</td>\n",
       "      <td>1</td>\n",
       "    </tr>\n",
       "    <tr>\n",
       "      <th>3</th>\n",
       "      <td>699</td>\n",
       "      <td>France</td>\n",
       "      <td>Female</td>\n",
       "      <td>39</td>\n",
       "      <td>1</td>\n",
       "      <td>0.00</td>\n",
       "      <td>2</td>\n",
       "      <td>0</td>\n",
       "      <td>0</td>\n",
       "      <td>93826.63</td>\n",
       "      <td>0</td>\n",
       "    </tr>\n",
       "    <tr>\n",
       "      <th>4</th>\n",
       "      <td>850</td>\n",
       "      <td>Spain</td>\n",
       "      <td>Female</td>\n",
       "      <td>43</td>\n",
       "      <td>2</td>\n",
       "      <td>125510.82</td>\n",
       "      <td>1</td>\n",
       "      <td>1</td>\n",
       "      <td>1</td>\n",
       "      <td>79084.10</td>\n",
       "      <td>0</td>\n",
       "    </tr>\n",
       "    <tr>\n",
       "      <th>...</th>\n",
       "      <td>...</td>\n",
       "      <td>...</td>\n",
       "      <td>...</td>\n",
       "      <td>...</td>\n",
       "      <td>...</td>\n",
       "      <td>...</td>\n",
       "      <td>...</td>\n",
       "      <td>...</td>\n",
       "      <td>...</td>\n",
       "      <td>...</td>\n",
       "      <td>...</td>\n",
       "    </tr>\n",
       "    <tr>\n",
       "      <th>9995</th>\n",
       "      <td>771</td>\n",
       "      <td>France</td>\n",
       "      <td>Male</td>\n",
       "      <td>39</td>\n",
       "      <td>5</td>\n",
       "      <td>0.00</td>\n",
       "      <td>2</td>\n",
       "      <td>1</td>\n",
       "      <td>0</td>\n",
       "      <td>96270.64</td>\n",
       "      <td>0</td>\n",
       "    </tr>\n",
       "    <tr>\n",
       "      <th>9996</th>\n",
       "      <td>516</td>\n",
       "      <td>France</td>\n",
       "      <td>Male</td>\n",
       "      <td>35</td>\n",
       "      <td>10</td>\n",
       "      <td>57369.61</td>\n",
       "      <td>1</td>\n",
       "      <td>1</td>\n",
       "      <td>1</td>\n",
       "      <td>101699.77</td>\n",
       "      <td>0</td>\n",
       "    </tr>\n",
       "    <tr>\n",
       "      <th>9997</th>\n",
       "      <td>709</td>\n",
       "      <td>France</td>\n",
       "      <td>Female</td>\n",
       "      <td>36</td>\n",
       "      <td>7</td>\n",
       "      <td>0.00</td>\n",
       "      <td>1</td>\n",
       "      <td>0</td>\n",
       "      <td>1</td>\n",
       "      <td>42085.58</td>\n",
       "      <td>1</td>\n",
       "    </tr>\n",
       "    <tr>\n",
       "      <th>9998</th>\n",
       "      <td>772</td>\n",
       "      <td>Germany</td>\n",
       "      <td>Male</td>\n",
       "      <td>42</td>\n",
       "      <td>3</td>\n",
       "      <td>75075.31</td>\n",
       "      <td>2</td>\n",
       "      <td>1</td>\n",
       "      <td>0</td>\n",
       "      <td>92888.52</td>\n",
       "      <td>1</td>\n",
       "    </tr>\n",
       "    <tr>\n",
       "      <th>9999</th>\n",
       "      <td>792</td>\n",
       "      <td>France</td>\n",
       "      <td>Female</td>\n",
       "      <td>28</td>\n",
       "      <td>4</td>\n",
       "      <td>130142.79</td>\n",
       "      <td>1</td>\n",
       "      <td>1</td>\n",
       "      <td>0</td>\n",
       "      <td>38190.78</td>\n",
       "      <td>0</td>\n",
       "    </tr>\n",
       "  </tbody>\n",
       "</table>\n",
       "<p>10000 rows × 11 columns</p>\n",
       "</div>"
      ],
      "text/plain": [
       "      CreditScore Geography  Gender  Age  Tenure    Balance  NumOfProducts  HasCrCard  IsActiveMember  EstimatedSalary  Exited\n",
       "0             619    France  Female   42       2       0.00              1          1               1        101348.88       1\n",
       "1             608     Spain  Female   41       1   83807.86              1          0               1        112542.58       0\n",
       "2             502    France  Female   42       8  159660.80              3          1               0        113931.57       1\n",
       "3             699    France  Female   39       1       0.00              2          0               0         93826.63       0\n",
       "4             850     Spain  Female   43       2  125510.82              1          1               1         79084.10       0\n",
       "...           ...       ...     ...  ...     ...        ...            ...        ...             ...              ...     ...\n",
       "9995          771    France    Male   39       5       0.00              2          1               0         96270.64       0\n",
       "9996          516    France    Male   35      10   57369.61              1          1               1        101699.77       0\n",
       "9997          709    France  Female   36       7       0.00              1          0               1         42085.58       1\n",
       "9998          772   Germany    Male   42       3   75075.31              2          1               0         92888.52       1\n",
       "9999          792    France  Female   28       4  130142.79              1          1               0         38190.78       0\n",
       "\n",
       "[10000 rows x 11 columns]"
      ]
     },
     "execution_count": 6,
     "metadata": {},
     "output_type": "execute_result"
    }
   ],
   "source": [
    "#drop the customer ID, Surname, Rownumber because it not nessesary \n",
    "data.drop(['CustomerId', 'Surname', 'RowNumber'],axis='columns',inplace=True)\n",
    "\n",
    "#check the new dataset\n",
    "data.copy()\n"
   ]
  },
  {
   "cell_type": "markdown",
   "metadata": {},
   "source": [
    "The dataset seems good to explore "
   ]
  },
  {
   "cell_type": "code",
   "execution_count": 7,
   "metadata": {},
   "outputs": [
    {
     "data": {
      "text/plain": [
       "0    7963\n",
       "1    2037\n",
       "Name: Exited, dtype: int64"
      ]
     },
     "execution_count": 7,
     "metadata": {},
     "output_type": "execute_result"
    }
   ],
   "source": [
    "#check the customer that leave the bank\n",
    "data['Exited'].value_counts()\n"
   ]
  },
  {
   "cell_type": "markdown",
   "metadata": {},
   "source": [
    "From above the customer that leave the bank around 25.5808113% from (2037/7963 customer)"
   ]
  },
  {
   "cell_type": "code",
   "execution_count": 8,
   "metadata": {},
   "outputs": [
    {
     "data": {
      "text/plain": [
       "Index(['CreditScore', 'Age', 'Tenure', 'Balance', 'NumOfProducts', 'HasCrCard', 'IsActiveMember', 'EstimatedSalary', 'Exited'], dtype='object')"
      ]
     },
     "execution_count": 8,
     "metadata": {},
     "output_type": "execute_result"
    }
   ],
   "source": [
    "#quick way to separate numeric columns\n",
    "data.describe().columns"
   ]
  },
  {
   "cell_type": "code",
   "execution_count": 9,
   "metadata": {},
   "outputs": [
    {
     "name": "stderr",
     "output_type": "stream",
     "text": [
      "/Library/Frameworks/Python.framework/Versions/3.10/lib/python3.10/site-packages/seaborn/_decorators.py:36: FutureWarning: Pass the following variable as a keyword arg: x. From version 0.12, the only valid positional argument will be `data`, and passing other arguments without an explicit keyword will result in an error or misinterpretation.\n",
      "  warnings.warn(\n"
     ]
    },
    {
     "data": {
      "text/plain": [
       "<AxesSubplot:xlabel='Gender', ylabel='count'>"
      ]
     },
     "execution_count": 9,
     "metadata": {},
     "output_type": "execute_result"
    },
    {
     "data": {
      "image/png": "[encoded data removed]",
      "text/plain": [
       "<Figure size 432x288 with 1 Axes>"
      ]
     },
     "metadata": {
      "needs_background": "light"
     },
     "output_type": "display_data"
    }
   ],
   "source": [
    "#find the Exited based on Gender\n",
    "sns.countplot('Gender', hue='Exited', data=data)\n",
    "\n"
   ]
  },
  {
   "cell_type": "markdown",
   "metadata": {},
   "source": [
    "From above we can see that most of male customer retain as customer and female customer have tendency to leave/churn"
   ]
  },
  {
   "cell_type": "code",
   "execution_count": 10,
   "metadata": {},
   "outputs": [
    {
     "name": "stderr",
     "output_type": "stream",
     "text": [
      "/Library/Frameworks/Python.framework/Versions/3.10/lib/python3.10/site-packages/seaborn/_decorators.py:36: FutureWarning: Pass the following variable as a keyword arg: x. From version 0.12, the only valid positional argument will be `data`, and passing other arguments without an explicit keyword will result in an error or misinterpretation.\n",
      "  warnings.warn(\n"
     ]
    },
    {
     "data": {
      "text/plain": [
       "<AxesSubplot:xlabel='Geography', ylabel='count'>"
      ]
     },
     "execution_count": 10,
     "metadata": {},
     "output_type": "execute_result"
    },
    {
     "data": {
      "image/png": "[encoded data removed]",
      "text/plain": [
       "<Figure size 432x288 with 1 Axes>"
      ]
     },
     "metadata": {
      "needs_background": "light"
     },
     "output_type": "display_data"
    }
   ],
   "source": [
    "#find the Exited based on Geography\n",
    "sns.countplot('Geography', hue='Exited', data=data)\n",
    "\n"
   ]
  },
  {
   "cell_type": "markdown",
   "metadata": {},
   "source": [
    "The most of customer for this bank has from france with germany for the less one"
   ]
  },
  {
   "cell_type": "code",
   "execution_count": 11,
   "metadata": {},
   "outputs": [
    {
     "name": "stderr",
     "output_type": "stream",
     "text": [
      "/Library/Frameworks/Python.framework/Versions/3.10/lib/python3.10/site-packages/seaborn/_decorators.py:36: FutureWarning: Pass the following variable as a keyword arg: x. From version 0.12, the only valid positional argument will be `data`, and passing other arguments without an explicit keyword will result in an error or misinterpretation.\n",
      "  warnings.warn(\n"
     ]
    },
    {
     "data": {
      "text/plain": [
       "<AxesSubplot:xlabel='HasCrCard', ylabel='count'>"
      ]
     },
     "execution_count": 11,
     "metadata": {},
     "output_type": "execute_result"
    },
    {
     "data": {
      "image/png": "[encoded data removed]",
      "text/plain": [
       "<Figure size 432x288 with 1 Axes>"
      ]
     },
     "metadata": {
      "needs_background": "light"
     },
     "output_type": "display_data"
    }
   ],
   "source": [
    "#find the Exited based on has credit card\n",
    "sns.countplot('HasCrCard', hue='Exited', data=data)"
   ]
  },
  {
   "cell_type": "markdown",
   "metadata": {},
   "source": [
    "people that has credit card tendency to stay on bank because it easy for them to link their credit card with their debit card"
   ]
  },
  {
   "cell_type": "code",
   "execution_count": 12,
   "metadata": {},
   "outputs": [
    {
     "name": "stderr",
     "output_type": "stream",
     "text": [
      "/Library/Frameworks/Python.framework/Versions/3.10/lib/python3.10/site-packages/seaborn/_decorators.py:36: FutureWarning: Pass the following variable as a keyword arg: x. From version 0.12, the only valid positional argument will be `data`, and passing other arguments without an explicit keyword will result in an error or misinterpretation.\n",
      "  warnings.warn(\n"
     ]
    },
    {
     "data": {
      "text/plain": [
       "<AxesSubplot:xlabel='NumOfProducts', ylabel='count'>"
      ]
     },
     "execution_count": 12,
     "metadata": {},
     "output_type": "execute_result"
    },
    {
     "data": {
      "image/png": "[encoded data removed]",
      "text/plain": [
       "<Figure size 432x288 with 1 Axes>"
      ]
     },
     "metadata": {
      "needs_background": "light"
     },
     "output_type": "display_data"
    }
   ],
   "source": [
    "#find the Exited based on has number that product of bank\n",
    "sns.countplot('NumOfProducts', hue='Exited', data=data)\n"
   ]
  },
  {
   "cell_type": "markdown",
   "metadata": {},
   "source": [
    "from here we can see that most loyal customer that has 1 or 2 product of the bank, and for more than 2 have tendency to leave."
   ]
  },
  {
   "cell_type": "markdown",
   "metadata": {},
   "source": [
    "4. Data Preprocessing Model\n",
    "\n",
    "    *One-hot-encoding the categorical variable \"Geography\" and Label-Encoding the categorical variable \"Gender\""
   ]
  },
  {
   "cell_type": "code",
   "execution_count": 13,
   "metadata": {},
   "outputs": [
    {
     "data": {
      "text/html": [
       "<div>\n",
       "<style scoped>\n",
       "    .dataframe tbody tr th:only-of-type {\n",
       "        vertical-align: middle;\n",
       "    }\n",
       "\n",
       "    .dataframe tbody tr th {\n",
       "        vertical-align: top;\n",
       "    }\n",
       "\n",
       "    .dataframe thead th {\n",
       "        text-align: right;\n",
       "    }\n",
       "</style>\n",
       "<table border=\"1\" class=\"dataframe\">\n",
       "  <thead>\n",
       "    <tr style=\"text-align: right;\">\n",
       "      <th></th>\n",
       "      <th>CreditScore</th>\n",
       "      <th>Geography</th>\n",
       "      <th>Gender</th>\n",
       "      <th>Age</th>\n",
       "      <th>Tenure</th>\n",
       "      <th>Balance</th>\n",
       "      <th>NumOfProducts</th>\n",
       "      <th>HasCrCard</th>\n",
       "      <th>IsActiveMember</th>\n",
       "      <th>EstimatedSalary</th>\n",
       "      <th>Exited</th>\n",
       "    </tr>\n",
       "  </thead>\n",
       "  <tbody>\n",
       "    <tr>\n",
       "      <th>0</th>\n",
       "      <td>619</td>\n",
       "      <td>0</td>\n",
       "      <td>0</td>\n",
       "      <td>42</td>\n",
       "      <td>2</td>\n",
       "      <td>0.00</td>\n",
       "      <td>1</td>\n",
       "      <td>1</td>\n",
       "      <td>1</td>\n",
       "      <td>101348.88</td>\n",
       "      <td>1</td>\n",
       "    </tr>\n",
       "    <tr>\n",
       "      <th>1</th>\n",
       "      <td>608</td>\n",
       "      <td>2</td>\n",
       "      <td>0</td>\n",
       "      <td>41</td>\n",
       "      <td>1</td>\n",
       "      <td>83807.86</td>\n",
       "      <td>1</td>\n",
       "      <td>0</td>\n",
       "      <td>1</td>\n",
       "      <td>112542.58</td>\n",
       "      <td>0</td>\n",
       "    </tr>\n",
       "    <tr>\n",
       "      <th>2</th>\n",
       "      <td>502</td>\n",
       "      <td>0</td>\n",
       "      <td>0</td>\n",
       "      <td>42</td>\n",
       "      <td>8</td>\n",
       "      <td>159660.80</td>\n",
       "      <td>3</td>\n",
       "      <td>1</td>\n",
       "      <td>0</td>\n",
       "      <td>113931.57</td>\n",
       "      <td>1</td>\n",
       "    </tr>\n",
       "    <tr>\n",
       "      <th>3</th>\n",
       "      <td>699</td>\n",
       "      <td>0</td>\n",
       "      <td>0</td>\n",
       "      <td>39</td>\n",
       "      <td>1</td>\n",
       "      <td>0.00</td>\n",
       "      <td>2</td>\n",
       "      <td>0</td>\n",
       "      <td>0</td>\n",
       "      <td>93826.63</td>\n",
       "      <td>0</td>\n",
       "    </tr>\n",
       "    <tr>\n",
       "      <th>4</th>\n",
       "      <td>850</td>\n",
       "      <td>2</td>\n",
       "      <td>0</td>\n",
       "      <td>43</td>\n",
       "      <td>2</td>\n",
       "      <td>125510.82</td>\n",
       "      <td>1</td>\n",
       "      <td>1</td>\n",
       "      <td>1</td>\n",
       "      <td>79084.10</td>\n",
       "      <td>0</td>\n",
       "    </tr>\n",
       "    <tr>\n",
       "      <th>...</th>\n",
       "      <td>...</td>\n",
       "      <td>...</td>\n",
       "      <td>...</td>\n",
       "      <td>...</td>\n",
       "      <td>...</td>\n",
       "      <td>...</td>\n",
       "      <td>...</td>\n",
       "      <td>...</td>\n",
       "      <td>...</td>\n",
       "      <td>...</td>\n",
       "      <td>...</td>\n",
       "    </tr>\n",
       "    <tr>\n",
       "      <th>9995</th>\n",
       "      <td>771</td>\n",
       "      <td>0</td>\n",
       "      <td>1</td>\n",
       "      <td>39</td>\n",
       "      <td>5</td>\n",
       "      <td>0.00</td>\n",
       "      <td>2</td>\n",
       "      <td>1</td>\n",
       "      <td>0</td>\n",
       "      <td>96270.64</td>\n",
       "      <td>0</td>\n",
       "    </tr>\n",
       "    <tr>\n",
       "      <th>9996</th>\n",
       "      <td>516</td>\n",
       "      <td>0</td>\n",
       "      <td>1</td>\n",
       "      <td>35</td>\n",
       "      <td>10</td>\n",
       "      <td>57369.61</td>\n",
       "      <td>1</td>\n",
       "      <td>1</td>\n",
       "      <td>1</td>\n",
       "      <td>101699.77</td>\n",
       "      <td>0</td>\n",
       "    </tr>\n",
       "    <tr>\n",
       "      <th>9997</th>\n",
       "      <td>709</td>\n",
       "      <td>0</td>\n",
       "      <td>0</td>\n",
       "      <td>36</td>\n",
       "      <td>7</td>\n",
       "      <td>0.00</td>\n",
       "      <td>1</td>\n",
       "      <td>0</td>\n",
       "      <td>1</td>\n",
       "      <td>42085.58</td>\n",
       "      <td>1</td>\n",
       "    </tr>\n",
       "    <tr>\n",
       "      <th>9998</th>\n",
       "      <td>772</td>\n",
       "      <td>1</td>\n",
       "      <td>1</td>\n",
       "      <td>42</td>\n",
       "      <td>3</td>\n",
       "      <td>75075.31</td>\n",
       "      <td>2</td>\n",
       "      <td>1</td>\n",
       "      <td>0</td>\n",
       "      <td>92888.52</td>\n",
       "      <td>1</td>\n",
       "    </tr>\n",
       "    <tr>\n",
       "      <th>9999</th>\n",
       "      <td>792</td>\n",
       "      <td>0</td>\n",
       "      <td>0</td>\n",
       "      <td>28</td>\n",
       "      <td>4</td>\n",
       "      <td>130142.79</td>\n",
       "      <td>1</td>\n",
       "      <td>1</td>\n",
       "      <td>0</td>\n",
       "      <td>38190.78</td>\n",
       "      <td>0</td>\n",
       "    </tr>\n",
       "  </tbody>\n",
       "</table>\n",
       "<p>10000 rows × 11 columns</p>\n",
       "</div>"
      ],
      "text/plain": [
       "      CreditScore  Geography  Gender  Age  Tenure    Balance  NumOfProducts  HasCrCard  IsActiveMember  EstimatedSalary  Exited\n",
       "0             619          0       0   42       2       0.00              1          1               1        101348.88       1\n",
       "1             608          2       0   41       1   83807.86              1          0               1        112542.58       0\n",
       "2             502          0       0   42       8  159660.80              3          1               0        113931.57       1\n",
       "3             699          0       0   39       1       0.00              2          0               0         93826.63       0\n",
       "4             850          2       0   43       2  125510.82              1          1               1         79084.10       0\n",
       "...           ...        ...     ...  ...     ...        ...            ...        ...             ...              ...     ...\n",
       "9995          771          0       1   39       5       0.00              2          1               0         96270.64       0\n",
       "9996          516          0       1   35      10   57369.61              1          1               1        101699.77       0\n",
       "9997          709          0       0   36       7       0.00              1          0               1         42085.58       1\n",
       "9998          772          1       1   42       3   75075.31              2          1               0         92888.52       1\n",
       "9999          792          0       0   28       4  130142.79              1          1               0         38190.78       0\n",
       "\n",
       "[10000 rows x 11 columns]"
      ]
     },
     "execution_count": 13,
     "metadata": {},
     "output_type": "execute_result"
    }
   ],
   "source": [
    "#Change the geography and Gender by using one hot encoding\n",
    "#lets find the categorialfeatures\n",
    "list_1=list(data.columns)\n",
    "#Create the loop\n",
    "list_cate=[]\n",
    "for i in list_1:\n",
    "    if data[i].dtype=='object':\n",
    "        list_cate.append(i)\n",
    "#One hot encoding \n",
    "le=LabelEncoder()\n",
    "# Using the dictionary to label future data\n",
    "for i in list_cate:\n",
    "    data[i]=le.fit_transform(data[i])\n",
    "#print the data\n",
    "data"
   ]
  },
  {
   "cell_type": "markdown",
   "metadata": {},
   "source": [
    "Split the data set and Scalling the data"
   ]
  },
  {
   "cell_type": "markdown",
   "metadata": {},
   "source": [
    "5. Basic Model Building\n",
    "\n",
    "for this i might use the Models (Supervised Machine Learning):\n",
    "\n",
    "    a. Bayesian Networks\n",
    "    b. Logistic Regression \n",
    "    c. Decision Trees\n",
    "    d. Support Vector Machines\n",
    "    e. Artificial Neural Networks"
   ]
  },
  {
   "cell_type": "code",
   "execution_count": 25,
   "metadata": {},
   "outputs": [],
   "source": [
    "#define the X and Y axis\n",
    "X = data.iloc[:, :9].values\n",
    "Y = data.iloc[:, 10].values\n",
    "\n",
    "\n",
    "#split the data for training and test dataset\n",
    "X_train,X_test,y_train,y_test = train_test_split(X,Y, test_size = 0.3,random_state = 0)\n",
    "\n",
    "#Scale data\n",
    "sc = StandardScaler()\n",
    "#scalling training set\n",
    "X_train = sc.fit_transform(X_train)\n",
    "#scalling test set\n",
    "X_test = sc.fit_transform(X_test)\n"
   ]
  },
  {
   "cell_type": "code",
   "execution_count": 17,
   "metadata": {},
   "outputs": [
    {
     "name": "stdout",
     "output_type": "stream",
     "text": [
      "Accuracy: 0.821\n"
     ]
    }
   ],
   "source": [
    "# Gaussian model\n",
    "gaussian_model = GaussianNB() \n",
    "# Training the model\n",
    "gaussian_model.fit(X_train, y_train) \n",
    "# Predict the response\n",
    "prediction = gaussian_model.predict(X_test) \n",
    "\n",
    "result = {'Exited':y_test, 'pred':prediction}\n",
    "result_df = pd.DataFrame(result)\n",
    "# Checking NB accuracy\n",
    "print(\"Accuracy:\", metrics.accuracy_score(y_test, prediction)) "
   ]
  },
  {
   "cell_type": "code",
   "execution_count": 27,
   "metadata": {},
   "outputs": [
    {
     "name": "stdout",
     "output_type": "stream",
     "text": [
      "Accuracy: 109.5\n",
      "              precision    recall  f1-score   support\n",
      "\n",
      "           0       0.82      0.97      0.89      2379\n",
      "           1       0.59      0.16      0.25       621\n",
      "\n",
      "    accuracy                           0.80      3000\n",
      "   macro avg       0.70      0.56      0.57      3000\n",
      "weighted avg       0.77      0.80      0.75      3000\n",
      "\n"
     ]
    }
   ],
   "source": [
    "# Logistic Regression model\n",
    "logisticRegression_model = LogisticRegression(random_state=0) \n",
    "# Training the model\n",
    "logisticRegression_model.fit(X_train, y_train) \n",
    "# Predict the response\n",
    "prediction_1 = logisticRegression_model.predict(X_test)\n",
    "# Create a confusion matrix\n",
    "confusion_matrix = confusion_matrix(y_test, prediction_1) \n",
    "# Checking LR accuracy\n",
    "print(\"Accuracy:\", (confusion_matrix[0][0] + confusion_matrix[1][1]) / 22) \n",
    "# Score report\n",
    "print(classification_report(y_test,prediction_1))"
   ]
  },
  {
   "cell_type": "code",
   "execution_count": 19,
   "metadata": {},
   "outputs": [
    {
     "name": "stderr",
     "output_type": "stream",
     "text": [
      "/Library/Frameworks/Python.framework/Versions/3.10/lib/python3.10/site-packages/sklearn/utils/deprecation.py:87: FutureWarning: Function plot_confusion_matrix is deprecated; Function `plot_confusion_matrix` is deprecated in 1.0 and will be removed in 1.2. Use one of the class methods: ConfusionMatrixDisplay.from_predictions or ConfusionMatrixDisplay.from_estimator.\n",
      "  warnings.warn(msg, category=FutureWarning)\n"
     ]
    },
    {
     "data": {
      "image/png": "[encoded data removed]",
      "text/plain": [
       "<Figure size 432x288 with 2 Axes>"
      ]
     },
     "metadata": {
      "needs_background": "light"
     },
     "output_type": "display_data"
    }
   ],
   "source": [
    "# Plot\n",
    "plot_1 = plot_confusion_matrix(logisticRegression_model, X_test, y_test, display_labels=[\"NO\",\"YES\"],cmap = plt.cm.Reds,values_format = '.2f')\n",
    "plot_1.figure_.suptitle(\"Confusion Matrix\")\n",
    "plt.show()"
   ]
  },
  {
   "cell_type": "markdown",
   "metadata": {},
   "source": [
    " crosscheck by use confusion matrix or we try to understand the accuracy and precision just from confusion matrix"
   ]
  },
  {
   "cell_type": "code",
   "execution_count": 35,
   "metadata": {},
   "outputs": [
    {
     "data": {
      "text/plain": [
       "0.8"
      ]
     },
     "execution_count": 35,
     "metadata": {},
     "output_type": "execute_result"
    }
   ],
   "source": [
    "#Accuracy\n",
    "round((2311 + 98)/(2311 + 68 + 523 + 98),2)"
   ]
  },
  {
   "cell_type": "code",
   "execution_count": 36,
   "metadata": {},
   "outputs": [
    {
     "data": {
      "text/plain": [
       "0.82"
      ]
     },
     "execution_count": 36,
     "metadata": {},
     "output_type": "execute_result"
    }
   ],
   "source": [
    "# precision for customer didn't churn\n",
    "round((2311)/(2311 + 523),2)"
   ]
  },
  {
   "cell_type": "code",
   "execution_count": 37,
   "metadata": {},
   "outputs": [
    {
     "data": {
      "text/plain": [
       "0.59"
      ]
     },
     "execution_count": 37,
     "metadata": {},
     "output_type": "execute_result"
    }
   ],
   "source": [
    "#precision for customer did churn\n",
    "round((98)/(98+68),2)"
   ]
  },
  {
   "cell_type": "markdown",
   "metadata": {},
   "source": [
    "From our logistic regression and confusion matrix we can see that for accuracy are 0.80 with precision for customer who didnt churn 0.82 and customer that did churn 0.59."
   ]
  },
  {
   "cell_type": "code",
   "execution_count": 31,
   "metadata": {},
   "outputs": [
    {
     "name": "stdout",
     "output_type": "stream",
     "text": [
      "Accuracy(gini): 0.7886666666666666\n",
      "Accuracy(entropy): 0.7986666666666666\n",
      "Accuracy(depth10): 0.8403333333333334\n"
     ]
    }
   ],
   "source": [
    "# 2 MLM Decision Tree Classifier\n",
    "#create default decision tree classifier object\n",
    "DecisionTree_model_Gini = DecisionTreeClassifier()\n",
    "#use entropy criterion\n",
    "DecisionTree_model_entropy = DecisionTreeClassifier(criterion = 'entropy')\n",
    "#use max depth of 3\n",
    "DecisionTree_model_depth10 = DecisionTreeClassifier(max_depth = 10)\n",
    "#fit the trees\n",
    "DecisionTree_model_Gini.fit(X_train, y_train)\n",
    "DecisionTree_model_entropy.fit(X_train, y_train)\n",
    "DecisionTree_model_depth10.fit(X_train, y_train)\n",
    "\n",
    "#make prediction\n",
    "y_pred_gini    = DecisionTree_model_Gini.predict(X_test)\n",
    "y_pred_entropy = DecisionTree_model_entropy.predict(X_test)\n",
    "y_pred_depth10  = DecisionTree_model_depth10.predict(X_test)\n",
    "\n",
    "#print the results\n",
    "print('Accuracy(gini):', metrics.accuracy_score(y_test, y_pred_gini))\n",
    "print('Accuracy(entropy):', metrics.accuracy_score(y_test, y_pred_entropy))\n",
    "print('Accuracy(depth10):', metrics.accuracy_score(y_test, y_pred_depth10))\n",
    "\n",
    "# Score report\n",
    "print(classification_report(y_test,prediction_2))"
   ]
  },
  {
   "cell_type": "code",
   "execution_count": 38,
   "metadata": {},
   "outputs": [
    {
     "name": "stdout",
     "output_type": "stream",
     "text": [
      "              precision    recall  f1-score   support\n",
      "\n",
      "           0       0.88      0.93      0.90      2379\n",
      "           1       0.65      0.51      0.57       621\n",
      "\n",
      "    accuracy                           0.84      3000\n",
      "   macro avg       0.76      0.72      0.74      3000\n",
      "weighted avg       0.83      0.84      0.83      3000\n",
      "\n"
     ]
    }
   ],
   "source": [
    "clf = DecisionTreeClassifier(max_depth = 10, random_state = 40)\n",
    "clf.fit(X_train,y_train)\n",
    "prediction_2 = clf.predict(X_test)\n",
    "\n",
    "# Score report\n",
    "print(classification_report(y_test,prediction_2))"
   ]
  },
  {
   "cell_type": "markdown",
   "metadata": {},
   "source": [
    "we can see that from both formula that give same result for accuracy 0.84 "
   ]
  },
  {
   "cell_type": "code",
   "execution_count": 67,
   "metadata": {},
   "outputs": [
    {
     "name": "stdout",
     "output_type": "stream",
     "text": [
      "Accuracy (linear): 0.793\n",
      "Accuracy (sigmoid): 0.6893333333333334\n",
      "Accuracy (rbf): 0.859\n"
     ]
    }
   ],
   "source": [
    "#Support Vector Machines (SVMs)\n",
    "#create 3 SVM Classifiers\n",
    "#Linear Kernel\n",
    "Linear_SVM = svm.SVC(kernel= 'linear')\n",
    "#Sigmoid Kernel\n",
    "sigmoid_SVM = svm.SVC(kernel= 'sigmoid')\n",
    "#RBF kernel\n",
    "rbf_SVM = svm.SVC(kernel= 'rbf')\n",
    "\n",
    "#train the model using the training sets\n",
    "Linear_SVM.fit(X_train, y_train)\n",
    "sigmoid_SVM.fit(X_train, y_train)\n",
    "rbf_SVM.fit(X_train, y_train)\n",
    "\n",
    "#predict the response for test dataset\n",
    "y_pred_linear = Linear_SVM.predict(X_test)\n",
    "y_pred_sigmoid = sigmoid_SVM.predict(X_test)\n",
    "y_pred_rbf = rbf_SVM.predict(X_test)\n",
    "\n",
    "#calculate the accuracy of our model\n",
    "print('Accuracy (linear):', metrics.accuracy_score(y_test, y_pred_linear))\n",
    "print('Accuracy (sigmoid):', metrics.accuracy_score(y_test, y_pred_sigmoid))\n",
    "print('Accuracy (rbf):', metrics.accuracy_score(y_test, y_pred_rbf))"
   ]
  },
  {
   "cell_type": "markdown",
   "metadata": {},
   "source": [
    "so from above we can see that the best kernel that give accuracy are Gausian Kernel. for linear we might should change into polynomial kernel and the sigmoid are the worst performances."
   ]
  },
  {
   "cell_type": "markdown",
   "metadata": {},
   "source": [
    "5. Basic Model Building\n",
    "\n",
    "for this i might use the Models (Unsupervised Machine Learning):\n",
    "\n",
    "a. Random Forest\n",
    "\n",
    "b.Gradient Boosting Machines\n",
    "\n",
    "c. XGBoost\n",
    "\n",
    "d. ANN (Artificial Neural Network)"
   ]
  },
  {
   "cell_type": "code",
   "execution_count": 68,
   "metadata": {},
   "outputs": [
    {
     "data": {
      "text/plain": [
       "0.8633333333333333"
      ]
     },
     "execution_count": 68,
     "metadata": {},
     "output_type": "execute_result"
    }
   ],
   "source": [
    "# Random Forest:\n",
    "rf_model = RandomForestClassifier(random_state=20).fit(X_train, y_train)\n",
    "y_pred = rf_model.predict(X_test)\n",
    "accuracy_score(y_pred, y_test)"
   ]
  },
  {
   "cell_type": "code",
   "execution_count": 70,
   "metadata": {},
   "outputs": [
    {
     "data": {
      "text/plain": [
       "0.8636666666666667"
      ]
     },
     "execution_count": 70,
     "metadata": {},
     "output_type": "execute_result"
    }
   ],
   "source": [
    "# Gradient Boosting Machines\n",
    "from sklearn.ensemble import GradientBoostingClassifier\n",
    "gbm_model = GradientBoostingClassifier(random_state=20).fit(X_train, y_train)\n",
    "y_pred3 = gbm_model.predict(X_test)\n",
    "accuracy_score(y_pred3, y_test)"
   ]
  },
  {
   "cell_type": "code",
   "execution_count": 71,
   "metadata": {},
   "outputs": [
    {
     "data": {
      "text/plain": [
       "0.8556666666666667"
      ]
     },
     "execution_count": 71,
     "metadata": {},
     "output_type": "execute_result"
    }
   ],
   "source": [
    "# XGBoost\n",
    "from xgboost import XGBClassifier\n",
    "xgb_model = XGBClassifier(random_state=20, eval_metric='mlogloss').fit(X_train, y_train)\n",
    "y_pred4 = xgb_model.predict(X_test)\n",
    "accuracy_score(y_pred4, y_test)"
   ]
  },
  {
   "cell_type": "markdown",
   "metadata": {},
   "source": [
    "From gradier boosting machines we get 86,36% which this this the higher than random forest (86,33%) and XGBoost (85,56%) for the accuracy."
   ]
  },
  {
   "cell_type": "code",
   "execution_count": 77,
   "metadata": {},
   "outputs": [
    {
     "name": "stderr",
     "output_type": "stream",
     "text": [
      "/Library/Frameworks/Python.framework/Versions/3.10/lib/python3.10/site-packages/sklearn/neural_network/_multilayer_perceptron.py:702: ConvergenceWarning: Stochastic Optimizer: Maximum iterations (200) reached and the optimization hasn't converged yet.\n",
      "  warnings.warn(\n"
     ]
    },
    {
     "data": {
      "text/plain": [
       "0.859"
      ]
     },
     "execution_count": 77,
     "metadata": {},
     "output_type": "execute_result"
    }
   ],
   "source": [
    "# Artificial Neural Network\n",
    "mlpc_model = MLPClassifier(random_state=20).fit(X_train, y_train)\n",
    "y_pred5 = mlpc_model.predict(X_test)\n",
    "accuracy_score(y_pred5, y_test)"
   ]
  },
  {
   "cell_type": "code",
   "execution_count": 81,
   "metadata": {},
   "outputs": [
    {
     "name": "stdout",
     "output_type": "stream",
     "text": [
      "Epoch 1/200\n",
      "700/700 [==============================] - 5s 5ms/step - loss: 0.5025 - accuracy: 0.7970\n",
      "Epoch 2/200\n",
      "700/700 [==============================] - 3s 4ms/step - loss: 0.4349 - accuracy: 0.7977\n",
      "Epoch 3/200\n",
      "700/700 [==============================] - 4s 6ms/step - loss: 0.4325 - accuracy: 0.7977\n",
      "Epoch 4/200\n",
      "700/700 [==============================] - 4s 5ms/step - loss: 0.4301 - accuracy: 0.7977\n",
      "Epoch 5/200\n",
      "700/700 [==============================] - 4s 6ms/step - loss: 0.4273 - accuracy: 0.7977\n",
      "Epoch 6/200\n",
      "700/700 [==============================] - 4s 5ms/step - loss: 0.4247 - accuracy: 0.8106\n",
      "Epoch 7/200\n",
      "700/700 [==============================] - 4s 5ms/step - loss: 0.4219 - accuracy: 0.8234\n",
      "Epoch 8/200\n",
      "700/700 [==============================] - 4s 5ms/step - loss: 0.4198 - accuracy: 0.8286\n",
      "Epoch 9/200\n",
      "700/700 [==============================] - 3s 5ms/step - loss: 0.4182 - accuracy: 0.8291\n",
      "Epoch 10/200\n",
      "700/700 [==============================] - 3s 5ms/step - loss: 0.4170 - accuracy: 0.8319\n",
      "Epoch 11/200\n",
      "700/700 [==============================] - 4s 5ms/step - loss: 0.4159 - accuracy: 0.8313\n",
      "Epoch 12/200\n",
      "700/700 [==============================] - 3s 5ms/step - loss: 0.4148 - accuracy: 0.8317\n",
      "Epoch 13/200\n",
      "700/700 [==============================] - 3s 5ms/step - loss: 0.4138 - accuracy: 0.8326\n",
      "Epoch 14/200\n",
      "700/700 [==============================] - 3s 4ms/step - loss: 0.4133 - accuracy: 0.8327\n",
      "Epoch 15/200\n",
      "700/700 [==============================] - 3s 4ms/step - loss: 0.4125 - accuracy: 0.8331\n",
      "Epoch 16/200\n",
      "700/700 [==============================] - 3s 5ms/step - loss: 0.4119 - accuracy: 0.8324\n",
      "Epoch 17/200\n",
      "700/700 [==============================] - 3s 4ms/step - loss: 0.4106 - accuracy: 0.8340\n",
      "Epoch 18/200\n",
      "700/700 [==============================] - 4s 5ms/step - loss: 0.4108 - accuracy: 0.8324\n",
      "Epoch 19/200\n",
      "700/700 [==============================] - 3s 4ms/step - loss: 0.4100 - accuracy: 0.8324\n",
      "Epoch 20/200\n",
      "700/700 [==============================] - 3s 4ms/step - loss: 0.4096 - accuracy: 0.8334\n",
      "Epoch 21/200\n",
      "700/700 [==============================] - 3s 5ms/step - loss: 0.4091 - accuracy: 0.8340\n",
      "Epoch 22/200\n",
      "700/700 [==============================] - 3s 5ms/step - loss: 0.4088 - accuracy: 0.8324\n",
      "Epoch 23/200\n",
      "700/700 [==============================] - 3s 4ms/step - loss: 0.4081 - accuracy: 0.8331\n",
      "Epoch 24/200\n",
      "700/700 [==============================] - 3s 5ms/step - loss: 0.4076 - accuracy: 0.8337\n",
      "Epoch 25/200\n",
      "700/700 [==============================] - 4s 5ms/step - loss: 0.4074 - accuracy: 0.8337\n",
      "Epoch 26/200\n",
      "700/700 [==============================] - 3s 4ms/step - loss: 0.4068 - accuracy: 0.8337\n",
      "Epoch 27/200\n",
      "700/700 [==============================] - 4s 5ms/step - loss: 0.4063 - accuracy: 0.8340\n",
      "Epoch 28/200\n",
      "700/700 [==============================] - 4s 5ms/step - loss: 0.4057 - accuracy: 0.8324\n",
      "Epoch 29/200\n",
      "700/700 [==============================] - 3s 4ms/step - loss: 0.4056 - accuracy: 0.8324\n",
      "Epoch 30/200\n",
      "700/700 [==============================] - 3s 4ms/step - loss: 0.4053 - accuracy: 0.8337\n",
      "Epoch 31/200\n",
      "700/700 [==============================] - 4s 5ms/step - loss: 0.4046 - accuracy: 0.8346\n",
      "Epoch 32/200\n",
      "700/700 [==============================] - 3s 5ms/step - loss: 0.4044 - accuracy: 0.8343\n",
      "Epoch 33/200\n",
      "700/700 [==============================] - 3s 5ms/step - loss: 0.4046 - accuracy: 0.8334\n",
      "Epoch 34/200\n",
      "700/700 [==============================] - 6s 8ms/step - loss: 0.4046 - accuracy: 0.8336\n",
      "Epoch 35/200\n",
      "700/700 [==============================] - 4s 5ms/step - loss: 0.4045 - accuracy: 0.8339\n",
      "Epoch 36/200\n",
      "700/700 [==============================] - 3s 4ms/step - loss: 0.4040 - accuracy: 0.8349\n",
      "Epoch 37/200\n",
      "700/700 [==============================] - 4s 6ms/step - loss: 0.4045 - accuracy: 0.8339\n",
      "Epoch 38/200\n",
      "700/700 [==============================] - 4s 5ms/step - loss: 0.4045 - accuracy: 0.8340\n",
      "Epoch 39/200\n",
      "700/700 [==============================] - 4s 5ms/step - loss: 0.4041 - accuracy: 0.8339\n",
      "Epoch 40/200\n",
      "700/700 [==============================] - 4s 5ms/step - loss: 0.4040 - accuracy: 0.8344\n",
      "Epoch 41/200\n",
      "700/700 [==============================] - 3s 4ms/step - loss: 0.4041 - accuracy: 0.8341\n",
      "Epoch 42/200\n",
      "700/700 [==============================] - 4s 5ms/step - loss: 0.4039 - accuracy: 0.8339\n",
      "Epoch 43/200\n",
      "700/700 [==============================] - 3s 5ms/step - loss: 0.4038 - accuracy: 0.8343\n",
      "Epoch 44/200\n",
      "700/700 [==============================] - 3s 4ms/step - loss: 0.4038 - accuracy: 0.8327\n",
      "Epoch 45/200\n",
      "700/700 [==============================] - 3s 5ms/step - loss: 0.4034 - accuracy: 0.8329\n",
      "Epoch 46/200\n",
      "700/700 [==============================] - 3s 4ms/step - loss: 0.4035 - accuracy: 0.8340\n",
      "Epoch 47/200\n",
      "700/700 [==============================] - 3s 4ms/step - loss: 0.4033 - accuracy: 0.8343\n",
      "Epoch 48/200\n",
      "700/700 [==============================] - 3s 4ms/step - loss: 0.4033 - accuracy: 0.8346\n",
      "Epoch 49/200\n",
      "700/700 [==============================] - 3s 4ms/step - loss: 0.4035 - accuracy: 0.8344\n",
      "Epoch 50/200\n",
      "700/700 [==============================] - 3s 5ms/step - loss: 0.4033 - accuracy: 0.8339\n",
      "Epoch 51/200\n",
      "700/700 [==============================] - 3s 4ms/step - loss: 0.4031 - accuracy: 0.8337\n",
      "Epoch 52/200\n",
      "700/700 [==============================] - 3s 4ms/step - loss: 0.4032 - accuracy: 0.8350\n",
      "Epoch 53/200\n",
      "700/700 [==============================] - 3s 4ms/step - loss: 0.4035 - accuracy: 0.8344\n",
      "Epoch 54/200\n",
      "700/700 [==============================] - 3s 4ms/step - loss: 0.4033 - accuracy: 0.8347\n",
      "Epoch 55/200\n",
      "700/700 [==============================] - 3s 4ms/step - loss: 0.4031 - accuracy: 0.8341\n",
      "Epoch 56/200\n",
      "700/700 [==============================] - 3s 4ms/step - loss: 0.4029 - accuracy: 0.8356\n",
      "Epoch 57/200\n",
      "700/700 [==============================] - 3s 5ms/step - loss: 0.4032 - accuracy: 0.8347\n",
      "Epoch 58/200\n",
      "700/700 [==============================] - 3s 4ms/step - loss: 0.4030 - accuracy: 0.8349\n",
      "Epoch 59/200\n",
      "700/700 [==============================] - 3s 5ms/step - loss: 0.4028 - accuracy: 0.8344\n",
      "Epoch 60/200\n",
      "700/700 [==============================] - 4s 5ms/step - loss: 0.4024 - accuracy: 0.8350\n",
      "Epoch 61/200\n",
      "700/700 [==============================] - 3s 4ms/step - loss: 0.4028 - accuracy: 0.8347\n",
      "Epoch 62/200\n",
      "700/700 [==============================] - 4s 5ms/step - loss: 0.4029 - accuracy: 0.8357\n",
      "Epoch 63/200\n",
      "700/700 [==============================] - 3s 5ms/step - loss: 0.4028 - accuracy: 0.8344\n",
      "Epoch 64/200\n",
      "700/700 [==============================] - 3s 4ms/step - loss: 0.4030 - accuracy: 0.8337\n",
      "Epoch 65/200\n",
      "700/700 [==============================] - 3s 4ms/step - loss: 0.4026 - accuracy: 0.8344\n",
      "Epoch 66/200\n",
      "700/700 [==============================] - 3s 5ms/step - loss: 0.4026 - accuracy: 0.8346\n",
      "Epoch 67/200\n",
      "700/700 [==============================] - 4s 5ms/step - loss: 0.4028 - accuracy: 0.8356\n",
      "Epoch 68/200\n",
      "700/700 [==============================] - 3s 4ms/step - loss: 0.4026 - accuracy: 0.8331\n",
      "Epoch 69/200\n",
      "700/700 [==============================] - 4s 6ms/step - loss: 0.4027 - accuracy: 0.8339\n",
      "Epoch 70/200\n",
      "700/700 [==============================] - 4s 6ms/step - loss: 0.4024 - accuracy: 0.8351\n",
      "Epoch 71/200\n",
      "700/700 [==============================] - 3s 4ms/step - loss: 0.4023 - accuracy: 0.8356\n",
      "Epoch 72/200\n",
      "700/700 [==============================] - 3s 5ms/step - loss: 0.4026 - accuracy: 0.8349\n",
      "Epoch 73/200\n",
      "700/700 [==============================] - 3s 4ms/step - loss: 0.4027 - accuracy: 0.8354\n",
      "Epoch 74/200\n",
      "700/700 [==============================] - 3s 5ms/step - loss: 0.4023 - accuracy: 0.8343\n",
      "Epoch 75/200\n",
      "700/700 [==============================] - 4s 5ms/step - loss: 0.4026 - accuracy: 0.8341\n",
      "Epoch 76/200\n",
      "700/700 [==============================] - 3s 5ms/step - loss: 0.4025 - accuracy: 0.8347\n",
      "Epoch 77/200\n",
      "700/700 [==============================] - 3s 4ms/step - loss: 0.4023 - accuracy: 0.8339\n",
      "Epoch 78/200\n",
      "700/700 [==============================] - 2s 4ms/step - loss: 0.4023 - accuracy: 0.8347\n",
      "Epoch 79/200\n",
      "700/700 [==============================] - 3s 5ms/step - loss: 0.4025 - accuracy: 0.8353\n",
      "Epoch 80/200\n",
      "700/700 [==============================] - 3s 5ms/step - loss: 0.4021 - accuracy: 0.8353\n",
      "Epoch 81/200\n",
      "700/700 [==============================] - 3s 4ms/step - loss: 0.4027 - accuracy: 0.8364\n",
      "Epoch 82/200\n",
      "700/700 [==============================] - 3s 5ms/step - loss: 0.4028 - accuracy: 0.8336\n",
      "Epoch 83/200\n",
      "700/700 [==============================] - 3s 4ms/step - loss: 0.4026 - accuracy: 0.8340\n",
      "Epoch 84/200\n",
      "700/700 [==============================] - 3s 5ms/step - loss: 0.4022 - accuracy: 0.8350\n",
      "Epoch 85/200\n",
      "700/700 [==============================] - 3s 4ms/step - loss: 0.4023 - accuracy: 0.8349\n",
      "Epoch 86/200\n",
      "700/700 [==============================] - 3s 4ms/step - loss: 0.4021 - accuracy: 0.8353\n",
      "Epoch 87/200\n",
      "700/700 [==============================] - 3s 4ms/step - loss: 0.4022 - accuracy: 0.8360\n",
      "Epoch 88/200\n",
      "700/700 [==============================] - 3s 4ms/step - loss: 0.4022 - accuracy: 0.8334\n",
      "Epoch 89/200\n",
      "700/700 [==============================] - 3s 5ms/step - loss: 0.4019 - accuracy: 0.8353\n",
      "Epoch 90/200\n",
      "700/700 [==============================] - 3s 4ms/step - loss: 0.4019 - accuracy: 0.8329\n",
      "Epoch 91/200\n",
      "700/700 [==============================] - 3s 4ms/step - loss: 0.4016 - accuracy: 0.8340\n",
      "Epoch 92/200\n",
      "700/700 [==============================] - 3s 4ms/step - loss: 0.4016 - accuracy: 0.8344\n",
      "Epoch 93/200\n",
      "700/700 [==============================] - 3s 4ms/step - loss: 0.4015 - accuracy: 0.8350\n",
      "Epoch 94/200\n",
      "700/700 [==============================] - 3s 4ms/step - loss: 0.4015 - accuracy: 0.8353\n",
      "Epoch 95/200\n",
      "700/700 [==============================] - 4s 5ms/step - loss: 0.4012 - accuracy: 0.8340\n",
      "Epoch 96/200\n",
      "700/700 [==============================] - 3s 5ms/step - loss: 0.4008 - accuracy: 0.8354\n",
      "Epoch 97/200\n",
      "700/700 [==============================] - 3s 4ms/step - loss: 0.4005 - accuracy: 0.8350\n",
      "Epoch 98/200\n",
      "700/700 [==============================] - 3s 4ms/step - loss: 0.4006 - accuracy: 0.8359\n",
      "Epoch 99/200\n",
      "700/700 [==============================] - 2s 3ms/step - loss: 0.4001 - accuracy: 0.8356\n",
      "Epoch 100/200\n",
      "700/700 [==============================] - 3s 4ms/step - loss: 0.4002 - accuracy: 0.8346\n",
      "Epoch 101/200\n",
      "700/700 [==============================] - 3s 4ms/step - loss: 0.4000 - accuracy: 0.8339\n",
      "Epoch 102/200\n",
      "700/700 [==============================] - 3s 4ms/step - loss: 0.4000 - accuracy: 0.8344\n",
      "Epoch 103/200\n",
      "700/700 [==============================] - 3s 4ms/step - loss: 0.4002 - accuracy: 0.8344\n",
      "Epoch 104/200\n",
      "700/700 [==============================] - 3s 4ms/step - loss: 0.3996 - accuracy: 0.8344\n",
      "Epoch 105/200\n",
      "700/700 [==============================] - 3s 4ms/step - loss: 0.3998 - accuracy: 0.8346\n",
      "Epoch 106/200\n",
      "700/700 [==============================] - 3s 4ms/step - loss: 0.3996 - accuracy: 0.8340\n",
      "Epoch 107/200\n",
      "700/700 [==============================] - 3s 4ms/step - loss: 0.3996 - accuracy: 0.8354\n",
      "Epoch 108/200\n",
      "700/700 [==============================] - 2s 4ms/step - loss: 0.3994 - accuracy: 0.8354\n",
      "Epoch 109/200\n",
      "700/700 [==============================] - 3s 4ms/step - loss: 0.3995 - accuracy: 0.8341\n",
      "Epoch 110/200\n",
      "700/700 [==============================] - 2s 3ms/step - loss: 0.3995 - accuracy: 0.8354\n",
      "Epoch 111/200\n",
      "700/700 [==============================] - 3s 4ms/step - loss: 0.3993 - accuracy: 0.8343\n",
      "Epoch 112/200\n",
      "700/700 [==============================] - 3s 4ms/step - loss: 0.3993 - accuracy: 0.8346\n",
      "Epoch 113/200\n",
      "700/700 [==============================] - 3s 4ms/step - loss: 0.3990 - accuracy: 0.8357\n",
      "Epoch 114/200\n",
      "700/700 [==============================] - 3s 4ms/step - loss: 0.3988 - accuracy: 0.8361\n",
      "Epoch 115/200\n",
      "700/700 [==============================] - 3s 4ms/step - loss: 0.3982 - accuracy: 0.8346\n",
      "Epoch 116/200\n",
      "700/700 [==============================] - 3s 4ms/step - loss: 0.3992 - accuracy: 0.8356\n",
      "Epoch 117/200\n",
      "700/700 [==============================] - 3s 4ms/step - loss: 0.3993 - accuracy: 0.8336\n",
      "Epoch 118/200\n",
      "700/700 [==============================] - 3s 4ms/step - loss: 0.3987 - accuracy: 0.8339\n",
      "Epoch 119/200\n",
      "700/700 [==============================] - 3s 5ms/step - loss: 0.3987 - accuracy: 0.8334\n",
      "Epoch 120/200\n",
      "700/700 [==============================] - 3s 4ms/step - loss: 0.3985 - accuracy: 0.8340\n",
      "Epoch 121/200\n",
      "700/700 [==============================] - 3s 4ms/step - loss: 0.3988 - accuracy: 0.8350\n",
      "Epoch 122/200\n",
      "700/700 [==============================] - 3s 4ms/step - loss: 0.3984 - accuracy: 0.8350\n",
      "Epoch 123/200\n",
      "700/700 [==============================] - 3s 4ms/step - loss: 0.3988 - accuracy: 0.8347\n",
      "Epoch 124/200\n",
      "700/700 [==============================] - 4s 5ms/step - loss: 0.3984 - accuracy: 0.8353\n",
      "Epoch 125/200\n",
      "700/700 [==============================] - 4s 5ms/step - loss: 0.3985 - accuracy: 0.8344\n",
      "Epoch 126/200\n",
      "700/700 [==============================] - 4s 6ms/step - loss: 0.3988 - accuracy: 0.8344\n",
      "Epoch 127/200\n",
      "700/700 [==============================] - 3s 4ms/step - loss: 0.3988 - accuracy: 0.8344\n",
      "Epoch 128/200\n",
      "700/700 [==============================] - 3s 4ms/step - loss: 0.3983 - accuracy: 0.8339\n",
      "Epoch 129/200\n",
      "700/700 [==============================] - 3s 4ms/step - loss: 0.3984 - accuracy: 0.8346\n",
      "Epoch 130/200\n",
      "700/700 [==============================] - 3s 4ms/step - loss: 0.3988 - accuracy: 0.8339\n",
      "Epoch 131/200\n",
      "700/700 [==============================] - 3s 4ms/step - loss: 0.3988 - accuracy: 0.8336\n",
      "Epoch 132/200\n",
      "700/700 [==============================] - 3s 4ms/step - loss: 0.3989 - accuracy: 0.8357\n",
      "Epoch 133/200\n",
      "700/700 [==============================] - 3s 4ms/step - loss: 0.3988 - accuracy: 0.8344\n",
      "Epoch 134/200\n",
      "700/700 [==============================] - 3s 4ms/step - loss: 0.3986 - accuracy: 0.8353\n",
      "Epoch 135/200\n",
      "700/700 [==============================] - 4s 5ms/step - loss: 0.3982 - accuracy: 0.8327\n",
      "Epoch 136/200\n",
      "700/700 [==============================] - 3s 4ms/step - loss: 0.3983 - accuracy: 0.8343\n",
      "Epoch 137/200\n",
      "700/700 [==============================] - 3s 4ms/step - loss: 0.3985 - accuracy: 0.8347\n",
      "Epoch 138/200\n",
      "700/700 [==============================] - 3s 4ms/step - loss: 0.3987 - accuracy: 0.8333\n",
      "Epoch 139/200\n",
      "700/700 [==============================] - 3s 4ms/step - loss: 0.3987 - accuracy: 0.8339\n",
      "Epoch 140/200\n",
      "700/700 [==============================] - 3s 4ms/step - loss: 0.3983 - accuracy: 0.8349\n",
      "Epoch 141/200\n",
      "700/700 [==============================] - 3s 4ms/step - loss: 0.3983 - accuracy: 0.8341\n",
      "Epoch 142/200\n",
      "700/700 [==============================] - 3s 4ms/step - loss: 0.3987 - accuracy: 0.8343\n",
      "Epoch 143/200\n",
      "700/700 [==============================] - 3s 4ms/step - loss: 0.3981 - accuracy: 0.8357\n",
      "Epoch 144/200\n",
      "700/700 [==============================] - 3s 4ms/step - loss: 0.3985 - accuracy: 0.8346\n",
      "Epoch 145/200\n",
      "700/700 [==============================] - 3s 4ms/step - loss: 0.3986 - accuracy: 0.8331\n",
      "Epoch 146/200\n",
      "700/700 [==============================] - 3s 4ms/step - loss: 0.3983 - accuracy: 0.8349\n",
      "Epoch 147/200\n",
      "700/700 [==============================] - 3s 4ms/step - loss: 0.3983 - accuracy: 0.8340\n",
      "Epoch 148/200\n",
      "700/700 [==============================] - 2s 3ms/step - loss: 0.3981 - accuracy: 0.8340\n",
      "Epoch 149/200\n",
      "700/700 [==============================] - 3s 4ms/step - loss: 0.3987 - accuracy: 0.8353\n",
      "Epoch 150/200\n",
      "700/700 [==============================] - 3s 4ms/step - loss: 0.3983 - accuracy: 0.8349\n",
      "Epoch 151/200\n",
      "700/700 [==============================] - 3s 4ms/step - loss: 0.3987 - accuracy: 0.8341\n",
      "Epoch 152/200\n",
      "700/700 [==============================] - 3s 4ms/step - loss: 0.3984 - accuracy: 0.8324\n",
      "Epoch 153/200\n",
      "700/700 [==============================] - 3s 4ms/step - loss: 0.3981 - accuracy: 0.8343\n",
      "Epoch 154/200\n",
      "700/700 [==============================] - 3s 4ms/step - loss: 0.3983 - accuracy: 0.8340\n",
      "Epoch 155/200\n",
      "700/700 [==============================] - 3s 4ms/step - loss: 0.3980 - accuracy: 0.8373\n",
      "Epoch 156/200\n",
      "700/700 [==============================] - 3s 4ms/step - loss: 0.3984 - accuracy: 0.8340\n",
      "Epoch 157/200\n",
      "700/700 [==============================] - 3s 4ms/step - loss: 0.3982 - accuracy: 0.8339\n",
      "Epoch 158/200\n",
      "700/700 [==============================] - 3s 4ms/step - loss: 0.3982 - accuracy: 0.8356\n",
      "Epoch 159/200\n",
      "700/700 [==============================] - 3s 5ms/step - loss: 0.3981 - accuracy: 0.8350\n",
      "Epoch 160/200\n",
      "700/700 [==============================] - 3s 4ms/step - loss: 0.3983 - accuracy: 0.8354\n",
      "Epoch 161/200\n",
      "700/700 [==============================] - 3s 4ms/step - loss: 0.3984 - accuracy: 0.8353\n",
      "Epoch 162/200\n",
      "700/700 [==============================] - 3s 4ms/step - loss: 0.3983 - accuracy: 0.8339\n",
      "Epoch 163/200\n",
      "700/700 [==============================] - 3s 5ms/step - loss: 0.3982 - accuracy: 0.8356\n",
      "Epoch 164/200\n",
      "700/700 [==============================] - 3s 4ms/step - loss: 0.3986 - accuracy: 0.8361\n",
      "Epoch 165/200\n",
      "700/700 [==============================] - 3s 4ms/step - loss: 0.3979 - accuracy: 0.8340\n",
      "Epoch 166/200\n",
      "700/700 [==============================] - 3s 4ms/step - loss: 0.3976 - accuracy: 0.8357\n",
      "Epoch 167/200\n",
      "700/700 [==============================] - 3s 4ms/step - loss: 0.3982 - accuracy: 0.8357\n",
      "Epoch 168/200\n",
      "700/700 [==============================] - 3s 4ms/step - loss: 0.3986 - accuracy: 0.8344\n",
      "Epoch 169/200\n",
      "700/700 [==============================] - 3s 4ms/step - loss: 0.3985 - accuracy: 0.8346\n",
      "Epoch 170/200\n",
      "700/700 [==============================] - 3s 4ms/step - loss: 0.3982 - accuracy: 0.8351\n",
      "Epoch 171/200\n",
      "700/700 [==============================] - 3s 4ms/step - loss: 0.3981 - accuracy: 0.8340\n",
      "Epoch 172/200\n",
      "700/700 [==============================] - 3s 4ms/step - loss: 0.3983 - accuracy: 0.8354\n",
      "Epoch 173/200\n",
      "700/700 [==============================] - 3s 5ms/step - loss: 0.3982 - accuracy: 0.8356\n",
      "Epoch 174/200\n",
      "700/700 [==============================] - 3s 4ms/step - loss: 0.3982 - accuracy: 0.8343\n",
      "Epoch 175/200\n",
      "700/700 [==============================] - 3s 4ms/step - loss: 0.3986 - accuracy: 0.8367\n",
      "Epoch 176/200\n",
      "700/700 [==============================] - 3s 4ms/step - loss: 0.3985 - accuracy: 0.8354\n",
      "Epoch 177/200\n",
      "700/700 [==============================] - 3s 5ms/step - loss: 0.3983 - accuracy: 0.8359\n",
      "Epoch 178/200\n",
      "700/700 [==============================] - 3s 4ms/step - loss: 0.3980 - accuracy: 0.8337\n",
      "Epoch 179/200\n",
      "700/700 [==============================] - 3s 4ms/step - loss: 0.3981 - accuracy: 0.8350\n",
      "Epoch 180/200\n",
      "700/700 [==============================] - 3s 4ms/step - loss: 0.3985 - accuracy: 0.8351\n",
      "Epoch 181/200\n",
      "700/700 [==============================] - 3s 4ms/step - loss: 0.3980 - accuracy: 0.8351\n",
      "Epoch 182/200\n",
      "700/700 [==============================] - 3s 4ms/step - loss: 0.3982 - accuracy: 0.8363\n",
      "Epoch 183/200\n",
      "700/700 [==============================] - 3s 4ms/step - loss: 0.3982 - accuracy: 0.8346\n",
      "Epoch 184/200\n",
      "700/700 [==============================] - 3s 4ms/step - loss: 0.3984 - accuracy: 0.8364\n",
      "Epoch 185/200\n",
      "700/700 [==============================] - 3s 4ms/step - loss: 0.3982 - accuracy: 0.8360\n",
      "Epoch 186/200\n",
      "700/700 [==============================] - 3s 4ms/step - loss: 0.3983 - accuracy: 0.8339\n",
      "Epoch 187/200\n",
      "700/700 [==============================] - 3s 4ms/step - loss: 0.3980 - accuracy: 0.8354\n",
      "Epoch 188/200\n",
      "700/700 [==============================] - 3s 4ms/step - loss: 0.3981 - accuracy: 0.8349\n",
      "Epoch 189/200\n",
      "700/700 [==============================] - 3s 4ms/step - loss: 0.3983 - accuracy: 0.8353\n",
      "Epoch 190/200\n",
      "700/700 [==============================] - 3s 4ms/step - loss: 0.3986 - accuracy: 0.8344\n",
      "Epoch 191/200\n",
      "700/700 [==============================] - 3s 4ms/step - loss: 0.3980 - accuracy: 0.8341\n",
      "Epoch 192/200\n",
      "700/700 [==============================] - 3s 4ms/step - loss: 0.3984 - accuracy: 0.8371\n",
      "Epoch 193/200\n",
      "700/700 [==============================] - 3s 4ms/step - loss: 0.3979 - accuracy: 0.8349\n",
      "Epoch 194/200\n",
      "700/700 [==============================] - 3s 5ms/step - loss: 0.3981 - accuracy: 0.8364\n",
      "Epoch 195/200\n",
      "700/700 [==============================] - 3s 5ms/step - loss: 0.3981 - accuracy: 0.8346\n",
      "Epoch 196/200\n",
      "700/700 [==============================] - 3s 4ms/step - loss: 0.3983 - accuracy: 0.8356\n",
      "Epoch 197/200\n",
      "700/700 [==============================] - 3s 4ms/step - loss: 0.3981 - accuracy: 0.8344\n",
      "Epoch 198/200\n",
      "700/700 [==============================] - 3s 4ms/step - loss: 0.3976 - accuracy: 0.8363\n",
      "Epoch 199/200\n",
      "700/700 [==============================] - 3s 4ms/step - loss: 0.3980 - accuracy: 0.8344\n",
      "Epoch 200/200\n",
      "700/700 [==============================] - 2s 3ms/step - loss: 0.3982 - accuracy: 0.8340\n"
     ]
    },
    {
     "data": {
      "text/plain": [
       "<keras.callbacks.History at 0x159468550>"
      ]
     },
     "execution_count": 81,
     "metadata": {},
     "output_type": "execute_result"
    }
   ],
   "source": [
    "# Initialising the ANN\n",
    "classifier = Sequential()\n",
    "\n",
    "# Adding the input layer and the first hidden layer\n",
    "classifier.add(Dense(activation=\"relu\", units=6, kernel_initializer=\"uniform\"))\n",
    "\n",
    "# Adding the second hidden layer\n",
    "classifier.add(Dense(activation=\"relu\", input_dim=11, units=6, kernel_initializer=\"uniform\"))\n",
    "\n",
    "# Adding the output layer\n",
    "classifier.add(Dense(activation=\"sigmoid\", units=1, kernel_initializer=\"uniform\"))\n",
    "\n",
    "# Compiling the ANN\n",
    "classifier.compile(optimizer = 'adam', loss = 'binary_crossentropy', metrics = ['accuracy'])\n",
    "\n",
    "# Fitting the ANN to the Training set\n",
    "classifier.fit(X_train,y_train,batch_size = 10,\n",
    "    epochs=200,\n",
    ")"
   ]
  },
  {
   "cell_type": "code",
   "execution_count": 94,
   "metadata": {},
   "outputs": [
    {
     "name": "stdout",
     "output_type": "stream",
     "text": [
      "94/94 [==============================] - 0s 4ms/step\n"
     ]
    },
    {
     "data": {
      "text/plain": [
       "array([[False],\n",
       "       [False],\n",
       "       [False],\n",
       "       ...,\n",
       "       [False],\n",
       "       [False],\n",
       "       [False]])"
      ]
     },
     "execution_count": 94,
     "metadata": {},
     "output_type": "execute_result"
    }
   ],
   "source": [
    "y_pred6 = classifier.predict(X_test)\n",
    "y_pred6 = (y_pred6>0.5)\n",
    "#print y_pred\n",
    "y_pred6"
   ]
  },
  {
   "cell_type": "markdown",
   "metadata": {},
   "source": [
    "Using Confusion matrix to see the number of correct and incorrect predictions"
   ]
  },
  {
   "cell_type": "code",
   "execution_count": 95,
   "metadata": {},
   "outputs": [
    {
     "data": {
      "text/plain": [
       "array([[2309,   70],\n",
       "       [ 416,  205]])"
      ]
     },
     "execution_count": 95,
     "metadata": {},
     "output_type": "execute_result"
    }
   ],
   "source": [
    "from sklearn.metrics import confusion_matrix\n",
    "cm = confusion_matrix(y_test,y_pred6)\n",
    "cm"
   ]
  },
  {
   "cell_type": "markdown",
   "metadata": {},
   "source": [
    "Using accuracy_score to analyse the accuracy on the test set."
   ]
  },
  {
   "cell_type": "code",
   "execution_count": 96,
   "metadata": {},
   "outputs": [
    {
     "data": {
      "text/plain": [
       "0.8636666666666667"
      ]
     },
     "execution_count": 96,
     "metadata": {},
     "output_type": "execute_result"
    }
   ],
   "source": [
    "from sklearn.metrics import accuracy_score\n",
    "accuracy = accuracy_score(y_test,y_pred)\n",
    "accuracy"
   ]
  },
  {
   "cell_type": "markdown",
   "metadata": {},
   "source": [
    "from above we can see that the accuracy that we get from simple ANN are 85.90% and if we add more layer the accuracy drop into 83,36%."
   ]
  }
 ],
 "metadata": {
  "interpreter": {
   "hash": "aee8b7b246df8f9039afb4144a1f6fd8d2ca17a180786b69acc140d282b71a49"
  },
  "kernelspec": {
   "display_name": "Python 3.10.4 64-bit",
   "language": "python",
   "name": "python3"
  },
  "language_info": {
   "codemirror_mode": {
    "name": "ipython",
    "version": 3
   },
   "file_extension": ".py",
   "mimetype": "text/x-python",
   "name": "python",
   "nbconvert_exporter": "python",
   "pygments_lexer": "ipython3",
   "version": "3.10.4"
  },
  "orig_nbformat": 4
 },
 "nbformat": 4,
 "nbformat_minor": 2
}
